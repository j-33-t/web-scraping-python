{
 "cells": [
  {
   "cell_type": "markdown",
   "metadata": {},
   "source": [
    "Tags"
   ]
  },
  {
   "cell_type": "markdown",
   "metadata": {},
   "source": [
    "- < head>: The head tag is used to define the head section of an HTML document. It contains meta-information about the document such as the title, character encoding, and links to external stylesheets or scripts.\n",
    "\n",
    "- < body>: The body tag represents the main content of an HTML document. It contains all the visible content such as text, images, links, and other elements that are displayed on a web page.\n",
    "\n",
    "- < header>: The header tag is used to define the header section of a document or a section within a document. It typically contains the introductory content, headings, logos, and navigation elements for the page or section.\n",
    "\n",
    "- < article>: The article tag represents a self-contained composition within a document. It is intended to contain content that can be independently distributed or syndicated, such as blog posts, news articles, or forum posts.\n",
    "\n",
    "- < p>: The p tag is used to define a paragraph of text. It is commonly used to separate blocks of text and provides structure and readability to the content.\n",
    "\n",
    "- < h1>, < h2>, < h3>: These are heading tags used to define different levels of headings. They range from h1 (the highest level) to h6 (the lowest level) and are used to structure the content and indicate its hierarchy.\n",
    "\n",
    "- < div>: The div tag is a generic container that is used to group and style other HTML elements. It allows you to create divisions or sections within a document and apply specific styling or formatting to them.\n",
    "\n",
    "- < nav>: The nav tag is used to define a section of navigation links on a web page. It is typically used to create menus or navigation bars that contain links to different pages or sections within a website.\n",
    "\n",
    "- < li>: The li tag is used to define an item in a list. It is used within an ordered list (< ol>) or an unordered list (< ul>) to represent each individual item in the list.\n",
    "\n",
    "- < a>: The a tag is used to create hyperlinks or anchor links in HTML. It is used to define a clickable link to another web page or a specific location within the same page. The href attribute specifies the destination URL or target location, and the link text is placed between the opening and closing tags.\n",
    "\n",
    "    * Example: `<a href=\"http://example.com\">Text</a>`   \n",
    "\n",
    "\n",
    "<br>  \n",
    "\n",
    "- < button>: The button tag is used to create a clickable button on a web page. It can be used to trigger an action or submit a form when clicked. The content placed between the opening and closing tags defines the text or other elements displayed on the button.\n",
    "\n",
    "- < table>: The table tag is used to create an HTML table that organizes data into rows and columns. It is commonly used to display tabular data, such as schedules, pricing, or comparison charts.\n",
    "\n",
    "- < td>: The td tag represents a single data cell within an HTML table. It is used to define the content that appears in a specific cell of a table.\n",
    "\n",
    "- < tr>: The tr tag represents a row of data within an HTML table. It is used to group table cells (<td>) together horizontally.\n",
    "\n",
    "- < ul>: The ul tag is used to create an unordered list in HTML. It is used to group and display a list of items that don't have a specific order or sequence.\n",
    "\n",
    "- < iframe>: The iframe tag is used to embed another HTML document within the current document. It is often used to display external content such as maps, videos, or other web pages within a designated area of a webpage."
   ]
  },
  {
   "cell_type": "markdown",
   "metadata": {},
   "source": [
    "inspect element for \"https://subslikescript.com/movie/The_Luck_of_the_Irish-274636\""
   ]
  },
  {
   "cell_type": "markdown",
   "metadata": {},
   "source": [
    "inspect table elements for \"https://footystats.org/clubs/arsenal-fc-59\""
   ]
  }
 ],
 "metadata": {
  "language_info": {
   "name": "python"
  },
  "orig_nbformat": 4
 },
 "nbformat": 4,
 "nbformat_minor": 2
}
