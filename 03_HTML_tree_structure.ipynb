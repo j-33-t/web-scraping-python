{
 "cells": [
  {
   "cell_type": "markdown",
   "metadata": {},
   "source": [
    "Showing Tree structure of the following page: https://subslikescript.com/movie/Titanic-46435"
   ]
  },
  {
   "cell_type": "markdown",
   "metadata": {},
   "source": [
    "```mermaid\n",
    "graph TD\n",
    "    A(Root Element <br> < article >) --> B0(Element <br> < h1 >)\n",
    "    A --> B1(Attribute <br> class = 'main-article')\n",
    "    A --> B2(Element <br> < p >)\n",
    "    A --> B3(Element <br> < div >)\n",
    "\n",
    "    B0 --> C1( Text <br> Titanic 1997)\n",
    "\n",
    "    B2 --> C2( Attribute <br> class = 'plot')\n",
    "    B2 --> C3(Text <br> 84 years later...)\n",
    "\n",
    "    B3 --> C4( Attribute class = 'full-script')\n",
    "    B3 --> C5( Text <br> 13 meters. You...)\n"
   ]
  },
  {
   "cell_type": "markdown",
   "metadata": {},
   "source": [
    "It's recommended to find elements in this order\n",
    "1. ID\n",
    "2. Class name\n",
    "3. Tag name, CSS selection\n",
    "4. Xpath"
   ]
  },
  {
   "cell_type": "markdown",
   "metadata": {},
   "source": []
  }
 ],
 "metadata": {
  "language_info": {
   "name": "python"
  },
  "orig_nbformat": 4
 },
 "nbformat": 4,
 "nbformat_minor": 2
}
